{
 "cells": [
  {
   "cell_type": "code",
   "execution_count": 1,
   "id": "5c09e477",
   "metadata": {},
   "outputs": [
    {
     "name": "stdout",
     "output_type": "stream",
     "text": [
      "Requirement already satisfied: bs4 in c:\\users\\probook 430 g3\\anaconda3\\lib\\site-packages (0.0.2)\n",
      "Requirement already satisfied: beautifulsoup4 in c:\\users\\probook 430 g3\\anaconda3\\lib\\site-packages (from bs4) (4.11.1)\n",
      "Requirement already satisfied: soupsieve>1.2 in c:\\users\\probook 430 g3\\anaconda3\\lib\\site-packages (from beautifulsoup4->bs4) (2.3.1)\n",
      "Requirement already satisfied: requests in c:\\users\\probook 430 g3\\anaconda3\\lib\\site-packages (2.28.1)\n",
      "Requirement already satisfied: charset-normalizer<3,>=2 in c:\\users\\probook 430 g3\\anaconda3\\lib\\site-packages (from requests) (2.0.4)\n",
      "Requirement already satisfied: idna<4,>=2.5 in c:\\users\\probook 430 g3\\anaconda3\\lib\\site-packages (from requests) (3.3)\n",
      "Requirement already satisfied: certifi>=2017.4.17 in c:\\users\\probook 430 g3\\anaconda3\\lib\\site-packages (from requests) (2022.9.14)\n",
      "Requirement already satisfied: urllib3<1.27,>=1.21.1 in c:\\users\\probook 430 g3\\anaconda3\\lib\\site-packages (from requests) (1.26.11)\n"
     ]
    }
   ],
   "source": [
    "!pip install bs4\n",
    "!pip install requests\n",
    "import pandas as pd"
   ]
  },
  {
   "cell_type": "markdown",
   "id": "a0a3fa91",
   "metadata": {},
   "source": [
    "# Import requires Libraries"
   ]
  },
  {
   "cell_type": "code",
   "execution_count": 2,
   "id": "e41c9b61",
   "metadata": {},
   "outputs": [],
   "source": [
    "# importing the required libraries\n",
    "from bs4 import BeautifulSoup\n",
    "import requests"
   ]
  },
  {
   "cell_type": "markdown",
   "id": "0374dfb2",
   "metadata": {},
   "source": [
    "# Write a python program to display IMDB’s Top rated 100 Indian movies’ data "
   ]
  },
  {
   "cell_type": "markdown",
   "id": "9dff70fe",
   "metadata": {},
   "source": [
    "# send get request to the webpage server to get the source code of the page"
   ]
  },
  {
   "cell_type": "code",
   "execution_count": 3,
   "id": "dc48186f",
   "metadata": {},
   "outputs": [],
   "source": [
    "page = requests.get('https://www.imdb.com/list/ls056092300')"
   ]
  },
  {
   "cell_type": "code",
   "execution_count": 4,
   "id": "d20082b7",
   "metadata": {},
   "outputs": [
    {
     "data": {
      "text/plain": [
       "<Response [200]>"
      ]
     },
     "execution_count": 4,
     "metadata": {},
     "output_type": "execute_result"
    }
   ],
   "source": [
    "# dispaly response\n",
    "page"
   ]
  },
  {
   "cell_type": "code",
   "execution_count": 5,
   "id": "2204492b",
   "metadata": {},
   "outputs": [],
   "source": [
    "# parsing the content of Html using BeautifulSoup\n",
    "soup = BeautifulSoup(page.content,'html.parser')\n",
    "# dispaly content\n",
    "# soup"
   ]
  },
  {
   "cell_type": "code",
   "execution_count": 6,
   "id": "2f81ba72",
   "metadata": {},
   "outputs": [],
   "source": [
    "# finding the movies\n",
    "movies = soup.find_all('div',class_='lister-item-content')\n"
   ]
  },
  {
   "cell_type": "code",
   "execution_count": 7,
   "id": "cc50c12a",
   "metadata": {},
   "outputs": [],
   "source": [
    "# creating and empty list\n",
    "data = []\n",
    "for movie in movies:\n",
    "    text = movie.text.strip()\n",
    "    name = movie.find('a').text.strip()\n",
    "    rating = movie.find('span',class_='ipl-rating-star__rating').text.strip()\n",
    "    year = movie.find('span',class_='lister-item-year').text.strip()\n",
    "    data.append({'Name':name,'Rating':rating,'Year':year})\n",
    "    \n",
    "  "
   ]
  },
  {
   "cell_type": "code",
   "execution_count": 8,
   "id": "7b8d3b02",
   "metadata": {},
   "outputs": [
    {
     "name": "stdout",
     "output_type": "stream",
     "text": [
      "                                 Name Rating    Year\n",
      "0                     Ship of Theseus      8  (2012)\n",
      "1                              Iruvar    8.4  (1997)\n",
      "2                     Kaagaz Ke Phool    7.8  (1959)\n",
      "3   Lagaan: Once Upon a Time in India    8.1  (2001)\n",
      "4                     Pather Panchali    8.2  (1955)\n",
      "..                                ...    ...     ...\n",
      "95                   The World of Apu    8.4  (1959)\n",
      "96                        Kanchivaram    8.2  (2008)\n",
      "97                    Monsoon Wedding    7.3  (2001)\n",
      "98                              Black    8.1  (2005)\n",
      "99                            Deewaar      8  (1975)\n",
      "\n",
      "[100 rows x 3 columns]\n"
     ]
    }
   ],
   "source": [
    "# create DataFrame from extraced Movie\n",
    "df = pd.DataFrame(data, columns=[\"Name\",\"Rating\",\"Year\"])\n",
    "\n",
    "print(df)"
   ]
  },
  {
   "cell_type": "markdown",
   "id": "282243b1",
   "metadata": {},
   "source": [
    "# 2) Write a python program to scrape product name, price and discounts from "
   ]
  },
  {
   "cell_type": "markdown",
   "id": "1ffcc76f",
   "metadata": {},
   "source": [
    "# send get request to the webpage server to get the source code of the page"
   ]
  },
  {
   "cell_type": "code",
   "execution_count": 2,
   "id": "84902f57",
   "metadata": {},
   "outputs": [],
   "source": [
    "# importing the required libraries\n",
    "from bs4 import BeautifulSoup\n",
    "import requests"
   ]
  },
  {
   "cell_type": "code",
   "execution_count": 3,
   "id": "8d60d280",
   "metadata": {},
   "outputs": [],
   "source": [
    "page = requests.get('https://peachmode.com/search?q=bags ')"
   ]
  },
  {
   "cell_type": "code",
   "execution_count": 4,
   "id": "a7c042d3",
   "metadata": {},
   "outputs": [
    {
     "data": {
      "text/plain": [
       "<Response [200]>"
      ]
     },
     "execution_count": 4,
     "metadata": {},
     "output_type": "execute_result"
    }
   ],
   "source": [
    "# dispaly response\n",
    "page"
   ]
  },
  {
   "cell_type": "code",
   "execution_count": 16,
   "id": "a9b81519",
   "metadata": {},
   "outputs": [],
   "source": [
    "# parsing the content of Html using BeautifulSoup\n",
    "soup = BeautifulSoup(page.content,'html.parser')\n",
    "# dispaly content\n",
    "# soup"
   ]
  },
  {
   "cell_type": "code",
   "execution_count": 22,
   "id": "ebd0ceb8",
   "metadata": {},
   "outputs": [],
   "source": [
    "# Defining the product data\n",
    "\n",
    "products = soup.find_all('div',class_='st-col-xs-12 st-col-md-7')\n",
    "                \n",
    "               "
   ]
  },
  {
   "cell_type": "code",
   "execution_count": 70,
   "id": "9baecdcc",
   "metadata": {},
   "outputs": [
    {
     "ename": "AttributeError",
     "evalue": "'NoneType' object has no attribute 'text'",
     "output_type": "error",
     "traceback": [
      "\u001b[1;31m---------------------------------------------------------------------------\u001b[0m",
      "\u001b[1;31mAttributeError\u001b[0m                            Traceback (most recent call last)",
      "\u001b[1;32m~\\AppData\\Local\\Temp\\ipykernel_12524\\3000287486.py\u001b[0m in \u001b[0;36m<module>\u001b[1;34m\u001b[0m\n\u001b[0;32m      3\u001b[0m \u001b[1;32mfor\u001b[0m \u001b[0mproduct\u001b[0m \u001b[1;32min\u001b[0m \u001b[0mproducts\u001b[0m\u001b[1;33m:\u001b[0m\u001b[1;33m\u001b[0m\u001b[1;33m\u001b[0m\u001b[0m\n\u001b[0;32m      4\u001b[0m     \u001b[0mtext\u001b[0m \u001b[1;33m=\u001b[0m \u001b[0mproduct\u001b[0m\u001b[1;33m.\u001b[0m\u001b[0mtext\u001b[0m\u001b[1;33m.\u001b[0m\u001b[0mstrip\u001b[0m\u001b[1;33m(\u001b[0m\u001b[1;33m)\u001b[0m\u001b[1;33m\u001b[0m\u001b[1;33m\u001b[0m\u001b[0m\n\u001b[1;32m----> 5\u001b[1;33m     \u001b[0mname\u001b[0m \u001b[1;33m=\u001b[0m \u001b[0mproduct\u001b[0m\u001b[1;33m.\u001b[0m\u001b[0mfind\u001b[0m\u001b[1;33m(\u001b[0m\u001b[1;34m'a'\u001b[0m\u001b[1;33m,\u001b[0m\u001b[0mclass_\u001b[0m\u001b[1;33m=\u001b[0m\u001b[1;34m'product-name'\u001b[0m\u001b[1;33m)\u001b[0m\u001b[1;33m.\u001b[0m\u001b[0mtext\u001b[0m\u001b[1;33m.\u001b[0m\u001b[0mstrip\u001b[0m\u001b[1;33m(\u001b[0m\u001b[1;33m)\u001b[0m\u001b[1;33m\u001b[0m\u001b[1;33m\u001b[0m\u001b[0m\n\u001b[0m\u001b[0;32m      6\u001b[0m     \u001b[0mprice\u001b[0m \u001b[1;33m=\u001b[0m \u001b[0mproduct\u001b[0m\u001b[1;33m.\u001b[0m\u001b[0mfind\u001b[0m\u001b[1;33m(\u001b[0m\u001b[1;34m'span'\u001b[0m\u001b[1;33m,\u001b[0m\u001b[0mclass_\u001b[0m\u001b[1;33m=\u001b[0m\u001b[1;34m'price'\u001b[0m\u001b[1;33m)\u001b[0m\u001b[1;33m.\u001b[0m\u001b[0mtext\u001b[0m\u001b[1;33m.\u001b[0m\u001b[0mstrip\u001b[0m\u001b[1;33m(\u001b[0m\u001b[1;33m)\u001b[0m\u001b[1;33m\u001b[0m\u001b[1;33m\u001b[0m\u001b[0m\n\u001b[0;32m      7\u001b[0m     \u001b[0mdiscount_tag\u001b[0m \u001b[1;33m=\u001b[0m \u001b[0mproduct\u001b[0m\u001b[1;33m.\u001b[0m\u001b[0mfind\u001b[0m\u001b[1;33m(\u001b[0m\u001b[1;34m'div'\u001b[0m\u001b[1;33m,\u001b[0m\u001b[0mclass_\u001b[0m\u001b[1;33m=\u001b[0m\u001b[1;34m'discounted-price'\u001b[0m\u001b[1;33m)\u001b[0m\u001b[1;33m\u001b[0m\u001b[1;33m\u001b[0m\u001b[0m\n",
      "\u001b[1;31mAttributeError\u001b[0m: 'NoneType' object has no attribute 'text'"
     ]
    }
   ],
   "source": [
    "# creating am empty list\n",
    "data = []\n",
    "for product in products:\n",
    "    text = product.text.strip()\n",
    "    name = product.find('a',class_='product-name').text.strip()\n",
    "    price = product.find('span',class_='price').text.strip()\n",
    "    discount_tag = product.find('div',class_='discounted-price')\n",
    "    discount = discount_tag.find('span').text.strip() \n",
    "    data.append({'Name':name,'Price':price,'Discount':discount})\n",
    "    \n",
    "\n",
    "    "
   ]
  },
  {
   "cell_type": "code",
   "execution_count": 26,
   "id": "8a5222ba",
   "metadata": {},
   "outputs": [
    {
     "name": "stdout",
     "output_type": "stream",
     "text": [
      "Empty DataFrame\n",
      "Columns: [Name, Price, Discount_tag]\n",
      "Index: []\n"
     ]
    }
   ],
   "source": [
    "# create DataFrame from extracted product\n",
    "df = pd.DataFrame(data, columns=[\"Name\",\"Price\",\"Discount_tag\"])\n",
    "                  \n",
    "print(df)"
   ]
  },
  {
   "cell_type": "code",
   "execution_count": null,
   "id": "915f4ba5",
   "metadata": {},
   "outputs": [],
   "source": []
  },
  {
   "cell_type": "markdown",
   "id": "b4c70fc1",
   "metadata": {},
   "source": [
    "# Write a python program to scrape cricket rankings from icc-cricket.com"
   ]
  },
  {
   "cell_type": "code",
   "execution_count": 10,
   "id": "ca9f6fcd",
   "metadata": {},
   "outputs": [],
   "source": [
    "# importing the required libraries\n",
    "from bs4 import BeautifulSoup\n",
    "import requests\n",
    "import pandas as pd"
   ]
  },
  {
   "cell_type": "markdown",
   "id": "5cfe5408",
   "metadata": {},
   "source": [
    "# You have to scrape: \n",
    "# a) Top 10 ODI teams in men’s cricket along with the records for matches, points and rating. "
   ]
  },
  {
   "cell_type": "code",
   "execution_count": 89,
   "id": "712b227d",
   "metadata": {},
   "outputs": [],
   "source": [
    "# sending a GET request to the  url \n",
    "\n",
    "url = \"https://www.icc-cricket.com/rankings/mens/team-rankings/odi\"\n",
    "response = requests.get(url)\n",
    " \n",
    "# see content in page5\n",
    " "
   ]
  },
  {
   "cell_type": "code",
   "execution_count": 28,
   "id": "f6547909",
   "metadata": {},
   "outputs": [
    {
     "data": {
      "text/plain": [
       "<Response [200]>"
      ]
     },
     "execution_count": 28,
     "metadata": {},
     "output_type": "execute_result"
    }
   ],
   "source": [
    "# display response\n",
    "page"
   ]
  },
  {
   "cell_type": "code",
   "execution_count": 90,
   "id": "3001f61e",
   "metadata": {},
   "outputs": [],
   "source": [
    "# parsing the content of Html using BeautifulSoup\n",
    "soup = BeautifulSoup(response.content,'html.parser') \n"
   ]
  },
  {
   "cell_type": "code",
   "execution_count": 91,
   "id": "da0e6822",
   "metadata": {},
   "outputs": [],
   "source": [
    "# display content\n",
    "#soup"
   ]
  },
  {
   "cell_type": "code",
   "execution_count": 92,
   "id": "8fca07c9",
   "metadata": {},
   "outputs": [],
   "source": [
    "# scrap team names\n",
    "team = soup.find_all(\"span\",class_='u-hide-phablet')"
   ]
  },
  {
   "cell_type": "code",
   "execution_count": 93,
   "id": "604e1004",
   "metadata": {},
   "outputs": [],
   "source": [
    "# create an empty list \n",
    "team_name = []\n",
    "for i in team:\n",
    " team_name.append(i.text)"
   ]
  },
  {
   "cell_type": "code",
   "execution_count": 94,
   "id": "418033b9",
   "metadata": {},
   "outputs": [],
   "source": [
    "# creat empty list\n",
    "matches = [] \n",
    "points = []\n",
    "ratings = []\n",
    "new_list = []"
   ]
  },
  {
   "cell_type": "code",
   "execution_count": 95,
   "id": "dea27da5",
   "metadata": {},
   "outputs": [],
   "source": [
    "for i in soup.find_all(\"td\",class_='rankings-block__banner--matches'): # first place team number of matches\n",
    "    matches.append(i.text)\n",
    "for  i in soup.find_all(\"td\",class_='ranking-block__banner--points'): # first place eam points\n",
    "        points.append(i.text)\n",
    "for i in soup.find_all(\"td\",class_='ranking-block__banner--rating-u-text-right'): #first place team ratings\n",
    "    ratings.append(i.text.replace(\"\\n\",\"\"))\n",
    "for i in soup.find_all(\"td\",class_='table-body__cell u-center-text'):# other teams number of matches and points\n",
    "    new_list.append(i.text)\n",
    "for i in range(0,len(new_list)-1,2):\n",
    "    matches.append(new_list[i]) # other teams matches\n",
    "    points.append(new_list[i+1]) # other teams points\n",
    "for i in soup.find_all(\"td\",class_='table-body__cell u-text-right rating'):# other teams ratings\n",
    "    ratings.append(i.text)\n",
    "        "
   ]
  },
  {
   "cell_type": "code",
   "execution_count": 96,
   "id": "60903b04",
   "metadata": {},
   "outputs": [
    {
     "data": {
      "text/html": [
       "<div>\n",
       "<style scoped>\n",
       "    .dataframe tbody tr th:only-of-type {\n",
       "        vertical-align: middle;\n",
       "    }\n",
       "\n",
       "    .dataframe tbody tr th {\n",
       "        vertical-align: top;\n",
       "    }\n",
       "\n",
       "    .dataframe thead th {\n",
       "        text-align: right;\n",
       "    }\n",
       "</style>\n",
       "<table border=\"1\" class=\"dataframe\">\n",
       "  <thead>\n",
       "    <tr style=\"text-align: right;\">\n",
       "      <th></th>\n",
       "      <th>Team_name</th>\n",
       "      <th>Matches</th>\n",
       "      <th>Points</th>\n",
       "      <th>Ratings</th>\n",
       "    </tr>\n",
       "  </thead>\n",
       "  <tbody>\n",
       "  </tbody>\n",
       "</table>\n",
       "</div>"
      ],
      "text/plain": [
       "Empty DataFrame\n",
       "Columns: [Team_name, Matches, Points, Ratings]\n",
       "Index: []"
      ]
     },
     "execution_count": 96,
     "metadata": {},
     "output_type": "execute_result"
    }
   ],
   "source": [
    "# make DataFrame for top 10 icc teams\n",
    "icc=pd.DataFrame({})\n",
    "icc['Team_name']=team_name[:10]\n",
    "icc['Matches']=matches[:10]\n",
    "icc['Points']=points[:10]\n",
    "icc['Ratings']=ratings[:10]\n",
    "icc"
   ]
  },
  {
   "cell_type": "code",
   "execution_count": 97,
   "id": "b4737832",
   "metadata": {},
   "outputs": [
    {
     "name": "stdout",
     "output_type": "stream",
     "text": [
      "Empty DataFrame\n",
      "Columns: [Team_name, Matches, Points, Ratings]\n",
      "Index: []\n"
     ]
    }
   ],
   "source": [
    "print(icc)"
   ]
  },
  {
   "cell_type": "markdown",
   "id": "8529d18d",
   "metadata": {},
   "source": [
    "# b) Top 10 ODI Batsmen along with the records of their team and rating."
   ]
  },
  {
   "cell_type": "code",
   "execution_count": 98,
   "id": "d9557142",
   "metadata": {},
   "outputs": [],
   "source": [
    "#import the required libraries\n",
    "import requests\n",
    "from bs4 import BeautifulSoup\n",
    "import pandas as pd"
   ]
  },
  {
   "cell_type": "code",
   "execution_count": 99,
   "id": "fa2d3cc3",
   "metadata": {},
   "outputs": [
    {
     "data": {
      "text/plain": [
       "<Response [200]>"
      ]
     },
     "execution_count": 99,
     "metadata": {},
     "output_type": "execute_result"
    }
   ],
   "source": [
    "#Sending a GET request to the URL\n",
    "response = requests.get(\"https://www.icc-cricket.com/rankings/mens/player-rankings/odi/batting\")\n",
    "\n",
    "#display response\n",
    "response"
   ]
  },
  {
   "cell_type": "code",
   "execution_count": 119,
   "id": "e1c313fd",
   "metadata": {},
   "outputs": [],
   "source": [
    "#Parsing the content of HTML using BeautifulSoup\n",
    "soup = BeautifulSoup(response.content, \"html.parser\")\n",
    "\n",
    "#Display content\n",
    "#soup"
   ]
  },
  {
   "cell_type": "code",
   "execution_count": 120,
   "id": "42cdd11e",
   "metadata": {},
   "outputs": [],
   "source": [
    "#Create empty list for players, teams, rating\n",
    "bat_players = []\n",
    "teams = []\n",
    "ratings = []"
   ]
  },
  {
   "cell_type": "code",
   "execution_count": 121,
   "id": "17a0eba1",
   "metadata": {},
   "outputs": [
    {
     "ename": "AttributeError",
     "evalue": "'NoneType' object has no attribute 'find_all'",
     "output_type": "error",
     "traceback": [
      "\u001b[1;31m---------------------------------------------------------------------------\u001b[0m",
      "\u001b[1;31mAttributeError\u001b[0m                            Traceback (most recent call last)",
      "\u001b[1;32m~\\AppData\\Local\\Temp\\ipykernel_12524\\3562568707.py\u001b[0m in \u001b[0;36m<module>\u001b[1;34m\u001b[0m\n\u001b[0;32m      1\u001b[0m \u001b[1;31m# Find all the top ten batting players\u001b[0m\u001b[1;33m\u001b[0m\u001b[1;33m\u001b[0m\u001b[0m\n\u001b[0;32m      2\u001b[0m \u001b[0mtable\u001b[0m \u001b[1;33m=\u001b[0m \u001b[0msoup\u001b[0m\u001b[1;33m.\u001b[0m\u001b[0mfind\u001b[0m\u001b[1;33m(\u001b[0m\u001b[1;34m\"table\"\u001b[0m\u001b[1;33m,\u001b[0m\u001b[0mclass_\u001b[0m\u001b[1;33m=\u001b[0m\u001b[1;34m\"table\"\u001b[0m\u001b[1;33m)\u001b[0m\u001b[1;33m\u001b[0m\u001b[1;33m\u001b[0m\u001b[0m\n\u001b[1;32m----> 3\u001b[1;33m \u001b[0mrows\u001b[0m \u001b[1;33m=\u001b[0m \u001b[0mtable\u001b[0m\u001b[1;33m.\u001b[0m\u001b[0mfind_all\u001b[0m\u001b[1;33m(\u001b[0m\u001b[1;34m'tr'\u001b[0m\u001b[1;33m)\u001b[0m\u001b[1;33m\u001b[0m\u001b[1;33m\u001b[0m\u001b[0m\n\u001b[0m\u001b[0;32m      4\u001b[0m \u001b[1;33m\u001b[0m\u001b[0m\n",
      "\u001b[1;31mAttributeError\u001b[0m: 'NoneType' object has no attribute 'find_all'"
     ]
    }
   ],
   "source": [
    "# Find all the top ten batting players\n",
    "table = soup.find(\"table\",class_=\"table\")\n",
    "rows = table.find_all('tr')\n",
    "\n"
   ]
  },
  {
   "cell_type": "code",
   "execution_count": 122,
   "id": "ca82c49b",
   "metadata": {},
   "outputs": [
    {
     "ename": "NameError",
     "evalue": "name 'rows' is not defined",
     "output_type": "error",
     "traceback": [
      "\u001b[1;31m---------------------------------------------------------------------------\u001b[0m",
      "\u001b[1;31mNameError\u001b[0m                                 Traceback (most recent call last)",
      "\u001b[1;32m~\\AppData\\Local\\Temp\\ipykernel_12524\\1787417127.py\u001b[0m in \u001b[0;36m<module>\u001b[1;34m\u001b[0m\n\u001b[0;32m      1\u001b[0m \u001b[1;31m#Get the top 10 players\u001b[0m\u001b[1;33m\u001b[0m\u001b[1;33m\u001b[0m\u001b[0m\n\u001b[1;32m----> 2\u001b[1;33m \u001b[1;32mfor\u001b[0m \u001b[0mrow\u001b[0m \u001b[1;32min\u001b[0m \u001b[0mrows\u001b[0m\u001b[1;33m[\u001b[0m\u001b[1;36m1\u001b[0m\u001b[1;33m:\u001b[0m\u001b[1;36m11\u001b[0m\u001b[1;33m]\u001b[0m\u001b[1;33m:\u001b[0m\u001b[1;33m\u001b[0m\u001b[1;33m\u001b[0m\u001b[0m\n\u001b[0m\u001b[0;32m      3\u001b[0m     \u001b[0mcolumns\u001b[0m \u001b[1;33m=\u001b[0m \u001b[0mrow\u001b[0m\u001b[1;33m.\u001b[0m\u001b[0mfind_all\u001b[0m\u001b[1;33m(\u001b[0m\u001b[1;34m\"td\"\u001b[0m\u001b[1;33m)\u001b[0m\u001b[1;33m\u001b[0m\u001b[1;33m\u001b[0m\u001b[0m\n\u001b[0;32m      4\u001b[0m \u001b[1;33m\u001b[0m\u001b[0m\n\u001b[0;32m      5\u001b[0m \u001b[1;33m\u001b[0m\u001b[0m\n",
      "\u001b[1;31mNameError\u001b[0m: name 'rows' is not defined"
     ]
    }
   ],
   "source": [
    "#Get the top 10 players\n",
    "for row in rows[1:11]:\n",
    "    columns = row.find_all(\"td\")\n",
    "\n",
    "\n",
    "#Specifying the columns where the data for each variable can be found \n",
    "player_name = columns[1].text.strip()\n",
    "team = columns[2].text.strip()\n",
    "rating = column[3].text.strip()\n",
    "\n",
    "\n",
    "# Adding players name, team and rating to the list\n",
    "bat_players.append(player_name)\n",
    "teams.append(team)\n",
    "ratings.append(rating)\n",
    "  \n",
    "    "
   ]
  },
  {
   "cell_type": "code",
   "execution_count": 123,
   "id": "2e2bc5b8",
   "metadata": {},
   "outputs": [],
   "source": [
    "# creating dictionary from extracted data\n",
    "data ={\"Player\":bat_players,\"Team\":teams,\"Rating\":ratings}\n"
   ]
  },
  {
   "cell_type": "code",
   "execution_count": 124,
   "id": "1e60a9c2",
   "metadata": {},
   "outputs": [
    {
     "name": "stdout",
     "output_type": "stream",
     "text": [
      "Empty DataFrame\n",
      "Columns: [Player, Team, Rating]\n",
      "Index: []\n"
     ]
    }
   ],
   "source": [
    "# creat DataFrame from the dictionary\n",
    "df = pd.DataFrame(data)\n",
    "\n",
    "\n",
    "# display result\n",
    "print(df)"
   ]
  },
  {
   "cell_type": "markdown",
   "id": "d99954a9",
   "metadata": {},
   "source": [
    "# c) Top 10 ODI bowlers along with the records of their team and rating."
   ]
  },
  {
   "cell_type": "code",
   "execution_count": 102,
   "id": "181ebcf0",
   "metadata": {},
   "outputs": [
    {
     "data": {
      "text/plain": [
       "<Response [200]>"
      ]
     },
     "execution_count": 102,
     "metadata": {},
     "output_type": "execute_result"
    }
   ],
   "source": [
    "# import required libraries\n",
    "from bs4 import BeautifulSoup\n",
    "import requests\n",
    "import pandas as pd\n",
    "\n",
    "# send get request to the url\n",
    "response = requests.get(\"https://www.icc-cricket.com/rankings/mens/player-rankings/odi/bowling\")\n",
    "\n",
    "# display response\n",
    "response\n"
   ]
  },
  {
   "cell_type": "code",
   "execution_count": 103,
   "id": "26c58a09",
   "metadata": {},
   "outputs": [],
   "source": [
    "# Parsing the content of HTML using BeautifulSoup\n",
    "soup = BeautifulSoup(response.text,\"html.parser\")\n",
    "\n",
    "#display soup\n",
    "#soup\n"
   ]
  },
  {
   "cell_type": "code",
   "execution_count": 108,
   "id": "3edf2c57",
   "metadata": {},
   "outputs": [
    {
     "ename": "AttributeError",
     "evalue": "'NoneType' object has no attribute 'find_all'",
     "output_type": "error",
     "traceback": [
      "\u001b[1;31m---------------------------------------------------------------------------\u001b[0m",
      "\u001b[1;31mAttributeError\u001b[0m                            Traceback (most recent call last)",
      "\u001b[1;32m~\\AppData\\Local\\Temp\\ipykernel_12524\\2687326845.py\u001b[0m in \u001b[0;36m<module>\u001b[1;34m\u001b[0m\n\u001b[0;32m      6\u001b[0m \u001b[1;31m# find all the ten top bowling players\u001b[0m\u001b[1;33m\u001b[0m\u001b[1;33m\u001b[0m\u001b[0m\n\u001b[0;32m      7\u001b[0m \u001b[0mtable\u001b[0m \u001b[1;33m=\u001b[0m \u001b[0msoup\u001b[0m\u001b[1;33m.\u001b[0m\u001b[0mfind\u001b[0m\u001b[1;33m(\u001b[0m\u001b[1;34m\"table\"\u001b[0m\u001b[1;33m,\u001b[0m\u001b[0mclass_\u001b[0m\u001b[1;33m=\u001b[0m\u001b[1;34m\"table\"\u001b[0m\u001b[1;33m)\u001b[0m\u001b[1;33m\u001b[0m\u001b[1;33m\u001b[0m\u001b[0m\n\u001b[1;32m----> 8\u001b[1;33m \u001b[0mrows\u001b[0m \u001b[1;33m=\u001b[0m \u001b[0mtable\u001b[0m\u001b[1;33m.\u001b[0m\u001b[0mfind_all\u001b[0m\u001b[1;33m(\u001b[0m\u001b[1;34m\"tr\"\u001b[0m\u001b[1;33m)\u001b[0m\u001b[1;33m\u001b[0m\u001b[1;33m\u001b[0m\u001b[0m\n\u001b[0m",
      "\u001b[1;31mAttributeError\u001b[0m: 'NoneType' object has no attribute 'find_all'"
     ]
    }
   ],
   "source": [
    "# creat empty list for players, teams and rating\n",
    "bowl_players = []\n",
    "teams = []\n",
    "rating = []\n",
    "\n",
    "# find all the ten top bowling players\n",
    "table = soup.find(\"table\",class_=\"table\")\n",
    "rows = table.find_all(\"tr\")\n"
   ]
  },
  {
   "cell_type": "code",
   "execution_count": 109,
   "id": "b3bd12af",
   "metadata": {},
   "outputs": [
    {
     "ename": "NameError",
     "evalue": "name 'rows' is not defined",
     "output_type": "error",
     "traceback": [
      "\u001b[1;31m---------------------------------------------------------------------------\u001b[0m",
      "\u001b[1;31mNameError\u001b[0m                                 Traceback (most recent call last)",
      "\u001b[1;32m~\\AppData\\Local\\Temp\\ipykernel_12524\\3521429446.py\u001b[0m in \u001b[0;36m<module>\u001b[1;34m\u001b[0m\n\u001b[0;32m      1\u001b[0m \u001b[1;31m#Get 10 top players\u001b[0m\u001b[1;33m\u001b[0m\u001b[1;33m\u001b[0m\u001b[0m\n\u001b[1;32m----> 2\u001b[1;33m \u001b[1;32mfor\u001b[0m \u001b[0mrow\u001b[0m \u001b[1;32min\u001b[0m \u001b[0mrows\u001b[0m\u001b[1;33m[\u001b[0m\u001b[1;36m1\u001b[0m\u001b[1;33m:\u001b[0m\u001b[1;36m11\u001b[0m\u001b[1;33m]\u001b[0m\u001b[1;33m:\u001b[0m\u001b[1;33m\u001b[0m\u001b[1;33m\u001b[0m\u001b[0m\n\u001b[0m\u001b[0;32m      3\u001b[0m     \u001b[0mcolumns\u001b[0m \u001b[1;33m=\u001b[0m \u001b[0mrow\u001b[0m\u001b[1;33m.\u001b[0m\u001b[0mfind_all\u001b[0m\u001b[1;33m(\u001b[0m\u001b[1;34m\"td\"\u001b[0m\u001b[1;33m)\u001b[0m\u001b[1;33m\u001b[0m\u001b[1;33m\u001b[0m\u001b[0m\n\u001b[0;32m      4\u001b[0m \u001b[1;33m\u001b[0m\u001b[0m\n\u001b[0;32m      5\u001b[0m \u001b[1;31m# Specifying the columns where the data for each variable can be found\u001b[0m\u001b[1;33m\u001b[0m\u001b[1;33m\u001b[0m\u001b[0m\n",
      "\u001b[1;31mNameError\u001b[0m: name 'rows' is not defined"
     ]
    }
   ],
   "source": [
    "#Get 10 top players\n",
    "for row in rows[1:11]:\n",
    "    columns = row.find_all(\"td\")\n",
    "    \n",
    "# Specifying the columns where the data for each variable can be found \n",
    "player_name = columns[1].text.strip()\n",
    "team = columns[2].text.strip()\n",
    "rating = columns[3].text.strip()"
   ]
  },
  {
   "cell_type": "code",
   "execution_count": 110,
   "id": "b2599b7e",
   "metadata": {},
   "outputs": [
    {
     "ename": "NameError",
     "evalue": "name 'player_name' is not defined",
     "output_type": "error",
     "traceback": [
      "\u001b[1;31m---------------------------------------------------------------------------\u001b[0m",
      "\u001b[1;31mNameError\u001b[0m                                 Traceback (most recent call last)",
      "\u001b[1;32m~\\AppData\\Local\\Temp\\ipykernel_12524\\2415556266.py\u001b[0m in \u001b[0;36m<module>\u001b[1;34m\u001b[0m\n\u001b[0;32m      1\u001b[0m \u001b[1;31m#Adding players name, team and ratings to the list\u001b[0m\u001b[1;33m\u001b[0m\u001b[1;33m\u001b[0m\u001b[0m\n\u001b[1;32m----> 2\u001b[1;33m \u001b[0mbowl_players\u001b[0m\u001b[1;33m.\u001b[0m\u001b[0mappend\u001b[0m\u001b[1;33m(\u001b[0m\u001b[0mplayer_name\u001b[0m\u001b[1;33m)\u001b[0m\u001b[1;33m\u001b[0m\u001b[1;33m\u001b[0m\u001b[0m\n\u001b[0m\u001b[0;32m      3\u001b[0m \u001b[0mteams\u001b[0m\u001b[1;33m.\u001b[0m\u001b[0mappend\u001b[0m\u001b[1;33m(\u001b[0m\u001b[0mteam\u001b[0m\u001b[1;33m)\u001b[0m\u001b[1;33m\u001b[0m\u001b[1;33m\u001b[0m\u001b[0m\n\u001b[0;32m      4\u001b[0m \u001b[0mratings\u001b[0m\u001b[1;33m.\u001b[0m\u001b[0mappend\u001b[0m\u001b[1;33m(\u001b[0m\u001b[0mrating\u001b[0m\u001b[1;33m)\u001b[0m\u001b[1;33m\u001b[0m\u001b[1;33m\u001b[0m\u001b[0m\n",
      "\u001b[1;31mNameError\u001b[0m: name 'player_name' is not defined"
     ]
    }
   ],
   "source": [
    "#Adding players name, team and ratings to the list\n",
    "bowl_players.append(player_name)\n",
    "teams.append(team)\n",
    "ratings.append(rating)"
   ]
  },
  {
   "cell_type": "code",
   "execution_count": 111,
   "id": "a4c2bc38",
   "metadata": {},
   "outputs": [
    {
     "name": "stdout",
     "output_type": "stream",
     "text": [
      "Empty DataFrame\n",
      "Columns: [Player, Team, Rating]\n",
      "Index: []\n"
     ]
    }
   ],
   "source": [
    "# creating dictionary from extracted data\n",
    "data = {\"Player\":bowl_players,\"Team\":teams,\"Rating\":ratings}\n",
    "\n",
    "# create DataFrame\n",
    "df = pd.DataFrame(data)\n",
    "\n",
    "# display the result\n",
    "print(df)"
   ]
  },
  {
   "cell_type": "markdown",
   "id": "fb78fa90",
   "metadata": {},
   "source": [
    "# 4) Write a python program to scrape details of all the posts from\n",
    "https://www.patreon.com/coreyms .Scrape the \n",
    "heading, date, content and the likes for the video from the link for the youtube video from the post. "
   ]
  },
  {
   "cell_type": "code",
   "execution_count": 113,
   "id": "04830db2",
   "metadata": {},
   "outputs": [],
   "source": [
    "# Import all required libraries\n",
    "from bs4 import BeautifulSoup\n",
    "import requests\n",
    "import pandas as pd"
   ]
  },
  {
   "cell_type": "code",
   "execution_count": 115,
   "id": "766ba711",
   "metadata": {},
   "outputs": [],
   "source": [
    "# send request  web page server  to get source of code page\n",
    "response = requests.get(\"https://www.patreon.com/coreyms\")"
   ]
  },
  {
   "cell_type": "code",
   "execution_count": 116,
   "id": "db48b73e",
   "metadata": {},
   "outputs": [
    {
     "data": {
      "text/plain": [
       "<Response [200]>"
      ]
     },
     "execution_count": 116,
     "metadata": {},
     "output_type": "execute_result"
    }
   ],
   "source": [
    "# display response\n",
    "response "
   ]
  },
  {
   "cell_type": "code",
   "execution_count": 125,
   "id": "6de6b9d4",
   "metadata": {},
   "outputs": [],
   "source": [
    "#Parsing the content of HTML using BeautifulSoup\n",
    "soup = BeautifulSoup(response.content,\"html.parser\")\n",
    "\n",
    "#display content\n",
    "# soup"
   ]
  },
  {
   "cell_type": "code",
   "execution_count": 126,
   "id": "fd91b84a",
   "metadata": {},
   "outputs": [],
   "source": [
    "# finding the post \n",
    "post = soup.find_all('div',class_='post')\n"
   ]
  },
  {
   "cell_type": "code",
   "execution_count": 136,
   "id": "1f530c5e",
   "metadata": {},
   "outputs": [
    {
     "ename": "IndentationError",
     "evalue": "unexpected indent (2380221564.py, line 2)",
     "output_type": "error",
     "traceback": [
      "\u001b[1;36m  File \u001b[1;32m\"C:\\Users\\probook 430 G3\\AppData\\Local\\Temp\\ipykernel_12524\\2380221564.py\"\u001b[1;36m, line \u001b[1;32m2\u001b[0m\n\u001b[1;33m    data =[]\u001b[0m\n\u001b[1;37m    ^\u001b[0m\n\u001b[1;31mIndentationError\u001b[0m\u001b[1;31m:\u001b[0m unexpected indent\n"
     ]
    }
   ],
   "source": [
    "#creat an empty list\n",
    "     data =[]\n",
    "     for post in posts\n",
    "        heading = post.find('h4').text.strip()\n",
    "        date = post.fing('time')['datetime']\n",
    "        content = post.find('div,class_='post__excerpt').text.strip()\n",
    "        youtube_link = post.find('a',class_=post__thumbnail)['href']\n",
    "        likes = post.find('div',class'post__footer).find('button').text.strip()\n",
    "                      \n",
    "data.append('Heading':heading,'Date':date,'Content':content,'Youtube Link':youtube_link,'Likes':likes)\n",
    "                  \n",
    "                  \n",
    "                    "
   ]
  },
  {
   "cell_type": "code",
   "execution_count": null,
   "id": "6beda9e1",
   "metadata": {},
   "outputs": [],
   "source": [
    "# create DataFrame from extracted header\n",
    "df = pd.DataFrame()"
   ]
  }
 ],
 "metadata": {
  "kernelspec": {
   "display_name": "Python 3 (ipykernel)",
   "language": "python",
   "name": "python3"
  },
  "language_info": {
   "codemirror_mode": {
    "name": "ipython",
    "version": 3
   },
   "file_extension": ".py",
   "mimetype": "text/x-python",
   "name": "python",
   "nbconvert_exporter": "python",
   "pygments_lexer": "ipython3",
   "version": "3.9.13"
  }
 },
 "nbformat": 4,
 "nbformat_minor": 5
}
